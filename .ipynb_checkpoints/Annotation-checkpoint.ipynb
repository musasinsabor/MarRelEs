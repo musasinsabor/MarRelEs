{
 "cells": [
  {
   "cell_type": "code",
   "execution_count": 1,
   "id": "4a30636d",
   "metadata": {},
   "outputs": [],
   "source": [
    "import hyperonym_patterns.fast_checker as fast_checker\n",
    "import pandas as pd\n",
    "import re\n",
    "import os\n",
    "from data_analysis import *"
   ]
  },
  {
   "cell_type": "code",
   "execution_count": 2,
   "id": "f9d9952f",
   "metadata": {},
   "outputs": [],
   "source": [
    "pd.set_option('display.width', None)\n",
    "pd.set_option('display.max_colwidth', None)"
   ]
  },
  {
   "cell_type": "markdown",
   "id": "7d652e63",
   "metadata": {},
   "source": [
    "# CT in batch"
   ]
  },
  {
   "cell_type": "code",
   "execution_count": 3,
   "id": "78861d46",
   "metadata": {},
   "outputs": [],
   "source": [
    "# non_valide = []\n",
    "# # df = pd.DataFrame()\n",
    "# for i in range(2, 38):\n",
    "#     path = f\"hyperonym_patterns/Hyp/H{i}_{topic}.csv\"\n",
    "#     try:\n",
    "# #         data = create_annotation_file(path, \",\", idt)\n",
    "#         data=fast_checker.build_df_from_data(path, sep=\"\\t\")\n",
    "#         df=pd.concat([df, data], axis=0)\n",
    "#         print(f'{path} done')\n",
    "#     except:\n",
    "#         non_valide.append(path)\n",
    "#         print(f\"nope {path}\")"
   ]
  },
  {
   "cell_type": "markdown",
   "id": "31e899b7",
   "metadata": {},
   "source": [
    "## Post-traitement"
   ]
  },
  {
   "cell_type": "code",
   "execution_count": 4,
   "id": "a2423c79",
   "metadata": {},
   "outputs": [],
   "source": [
    "variables = variables_creation('hyperonym_patterns/Hyp/etape4/H01_economy_annotated.csv', sep=\",\")"
   ]
  },
  {
   "cell_type": "code",
   "execution_count": 5,
   "id": "f60e4684",
   "metadata": {},
   "outputs": [
    {
     "name": "stdout",
     "output_type": "stream",
     "text": [
      "annotated data saved in hyperonym_patterns/Hyp/etape4/H34_economy_annotated.csv\n"
     ]
    }
   ],
   "source": [
    "annotation = assisted_annotation('hyperonym_patterns/Hyp/etape4/H34_economy_annotated.csv', 'all_data_annotation_file.csv', 'economy', 'H34')"
   ]
  },
  {
   "cell_type": "code",
   "execution_count": 6,
   "id": "08612e69",
   "metadata": {},
   "outputs": [
    {
     "name": "stdout",
     "output_type": "stream",
     "text": [
      "annotated data saved in hyperonym_patterns/Hyp/etape4/H01_economy_annotated.csv\n"
     ]
    }
   ],
   "source": [
    "annotation = assisted_annotation('hyperonym_patterns/Hyp/etape4/H01_economy_annotated.csv', 'all_data_annotation_file.csv', 'economy', 'H01')"
   ]
  },
  {
   "cell_type": "code",
   "execution_count": 7,
   "id": "6175570b",
   "metadata": {},
   "outputs": [],
   "source": [
    "h01 = fast_checker.build_df_from_data('hyperonym_patterns/Hyp/etape4/H01_economy_annotated.csv')\n",
    "h34 = fast_checker.build_df_from_data('hyperonym_patterns/Hyp/etape4/H34_economy_annotated.csv')"
   ]
  },
  {
   "cell_type": "code",
   "execution_count": 8,
   "id": "1cc6a76d",
   "metadata": {},
   "outputs": [],
   "source": [
    "joined = pd.concat([h01, h34], axis=0)"
   ]
  },
  {
   "cell_type": "code",
   "execution_count": 9,
   "id": "e6f62b30",
   "metadata": {},
   "outputs": [],
   "source": [
    "joined.to_csv('hyperonym_patterns/Hyp/etape4/sample_data_economy_annotated', index=False)"
   ]
  }
 ],
 "metadata": {
  "kernelspec": {
   "display_name": "Python 3 (ipykernel)",
   "language": "python",
   "name": "python3"
  },
  "language_info": {
   "codemirror_mode": {
    "name": "ipython",
    "version": 3
   },
   "file_extension": ".py",
   "mimetype": "text/x-python",
   "name": "python",
   "nbconvert_exporter": "python",
   "pygments_lexer": "ipython3",
   "version": "3.7.7"
  }
 },
 "nbformat": 4,
 "nbformat_minor": 5
}
